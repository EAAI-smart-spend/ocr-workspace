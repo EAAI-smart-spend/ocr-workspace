{
 "cells": [
  {
   "cell_type": "markdown",
   "id": "36088136",
   "metadata": {},
   "source": [
    "# Step 1: Create Chinese OCR dataset by TRDG"
   ]
  },
  {
   "cell_type": "code",
   "execution_count": null,
   "id": "8f1166f3",
   "metadata": {},
   "outputs": [
    {
     "name": "stdout",
     "output_type": "stream",
     "text": [
      "Requirement already satisfied: pip==23.2 in ./.venv/lib/python3.9/site-packages (23.2)\n"
     ]
    },
    {
     "name": "stderr",
     "output_type": "stream",
     "text": [
      "\u001b[33mWARNING: There was an error checking the latest version of pip.\u001b[0m\u001b[33m\n"
     ]
    },
    {
     "name": "stdout",
     "output_type": "stream",
     "text": [
      "Collecting Pillow>=10.0.0 (from -r TextRecognitionDataGenerator/requirements.txt (line 1))\n",
      "  Obtaining dependency information for Pillow>=10.0.0 from https://files.pythonhosted.org/packages/b5/a9/5749930caf674695867eb56a581e78eb5f524b7583ff10b01b6e5048acb3/pillow-11.3.0-cp39-cp39-macosx_11_0_arm64.whl.metadata\n",
      "  Using cached pillow-11.3.0-cp39-cp39-macosx_11_0_arm64.whl.metadata (9.0 kB)\n",
      "Requirement already satisfied: requests>=2.20.0 in ./.venv/lib/python3.9/site-packages (from -r TextRecognitionDataGenerator/requirements.txt (line 2)) (2.32.5)\n",
      "Requirement already satisfied: opencv-python>=4.2.0.32 in ./.venv/lib/python3.9/site-packages (from -r TextRecognitionDataGenerator/requirements.txt (line 3)) (4.12.0.88)\n",
      "Requirement already satisfied: tqdm>=4.23.0 in ./.venv/lib/python3.9/site-packages (from -r TextRecognitionDataGenerator/requirements.txt (line 4)) (4.67.1)\n",
      "Requirement already satisfied: diffimg==0.2.3 in ./.venv/lib/python3.9/site-packages (from -r TextRecognitionDataGenerator/requirements.txt (line 5)) (0.2.3)\n",
      "Requirement already satisfied: arabic-reshaper==2.1.3 in ./.venv/lib/python3.9/site-packages (from -r TextRecognitionDataGenerator/requirements.txt (line 6)) (2.1.3)\n",
      "Requirement already satisfied: python-bidi==0.4.2 in ./.venv/lib/python3.9/site-packages (from -r TextRecognitionDataGenerator/requirements.txt (line 7)) (0.4.2)\n",
      "Requirement already satisfied: wikipedia>=1.4.0 in ./.venv/lib/python3.9/site-packages (from -r TextRecognitionDataGenerator/requirements.txt (line 8)) (1.4.0)\n",
      "Requirement already satisfied: future in ./.venv/lib/python3.9/site-packages (from arabic-reshaper==2.1.3->-r TextRecognitionDataGenerator/requirements.txt (line 6)) (1.0.0)\n",
      "Requirement already satisfied: setuptools in ./.venv/lib/python3.9/site-packages (from arabic-reshaper==2.1.3->-r TextRecognitionDataGenerator/requirements.txt (line 6)) (80.9.0)\n",
      "Requirement already satisfied: six in ./.venv/lib/python3.9/site-packages (from python-bidi==0.4.2->-r TextRecognitionDataGenerator/requirements.txt (line 7)) (1.17.0)\n",
      "Requirement already satisfied: charset_normalizer<4,>=2 in ./.venv/lib/python3.9/site-packages (from requests>=2.20.0->-r TextRecognitionDataGenerator/requirements.txt (line 2)) (3.4.4)\n",
      "Requirement already satisfied: idna<4,>=2.5 in ./.venv/lib/python3.9/site-packages (from requests>=2.20.0->-r TextRecognitionDataGenerator/requirements.txt (line 2)) (3.11)\n",
      "Requirement already satisfied: urllib3<3,>=1.21.1 in ./.venv/lib/python3.9/site-packages (from requests>=2.20.0->-r TextRecognitionDataGenerator/requirements.txt (line 2)) (2.5.0)\n",
      "Requirement already satisfied: certifi>=2017.4.17 in ./.venv/lib/python3.9/site-packages (from requests>=2.20.0->-r TextRecognitionDataGenerator/requirements.txt (line 2)) (2025.10.5)\n",
      "Requirement already satisfied: numpy<2.3.0,>=2 in ./.venv/lib/python3.9/site-packages (from opencv-python>=4.2.0.32->-r TextRecognitionDataGenerator/requirements.txt (line 3)) (2.0.2)\n",
      "Requirement already satisfied: beautifulsoup4 in ./.venv/lib/python3.9/site-packages (from wikipedia>=1.4.0->-r TextRecognitionDataGenerator/requirements.txt (line 8)) (4.14.2)\n",
      "Requirement already satisfied: soupsieve>1.2 in ./.venv/lib/python3.9/site-packages (from beautifulsoup4->wikipedia>=1.4.0->-r TextRecognitionDataGenerator/requirements.txt (line 8)) (2.8)\n",
      "Requirement already satisfied: typing-extensions>=4.0.0 in ./.venv/lib/python3.9/site-packages (from beautifulsoup4->wikipedia>=1.4.0->-r TextRecognitionDataGenerator/requirements.txt (line 8)) (4.15.0)\n",
      "Using cached pillow-11.3.0-cp39-cp39-macosx_11_0_arm64.whl (4.7 MB)\n",
      "Installing collected packages: Pillow\n",
      "  Attempting uninstall: Pillow\n",
      "    Found existing installation: Pillow 9.5.0\n",
      "    Uninstalling Pillow-9.5.0:\n",
      "      Successfully uninstalled Pillow-9.5.0\n",
      "Successfully installed Pillow-11.3.0\n"
     ]
    },
    {
     "name": "stderr",
     "output_type": "stream",
     "text": [
      "\u001b[0m\u001b[33mWARNING: There was an error checking the latest version of pip.\u001b[0m\u001b[33m\n",
      "\u001b[0m"
     ]
    }
   ],
   "source": [
    "%%bash\n",
    "\n",
    "# To fix TRDG pip requirements\n",
    "pip install pip==23.2\n",
    "\n",
    "pip install -r TextRecognitionDataGenerator/requirements.txt"
   ]
  },
  {
   "cell_type": "code",
   "execution_count": null,
   "id": "0ca0a9d4",
   "metadata": {},
   "outputs": [
    {
     "name": "stdout",
     "output_type": "stream",
     "text": [
      "Missing modules for handwritten text generation.\n"
     ]
    },
    {
     "name": "stderr",
     "output_type": "stream",
     "text": [
      "  0%|          | 0/10000 [00:00<?, ?it/s]"
     ]
    },
    {
     "name": "stdout",
     "output_type": "stream",
     "text": [
      "Missing modules for handwritten text generation.\n"
     ]
    },
    {
     "name": "stderr",
     "output_type": "stream",
     "text": [
      "100%|██████████| 10000/10000 [00:22<00:00, 445.71it/s]\n"
     ]
    }
   ],
   "source": [
    "%%bash\n",
    "\n",
    "# Training: 10000\n",
    "mkdir -p workspace/step1/training\n",
    "\n",
    "python TextRecognitionDataGenerator/trdg/run.py \\\n",
    "    --output_dir workspace/step1/training \\\n",
    "    --count 10000 \\\n",
    "    --language \"cn\" \n",
    "\n",
    "\n",
    "# Validation: 1000\n",
    "mkdir -p workspace/step1/validation\n",
    "\n",
    "python TextRecognitionDataGenerator/trdg/run.py \\\n",
    "    --output_dir workspace/step1/validation \\\n",
    "    --count 1000 \\\n",
    "    --language \"cn\" \n",
    "\n",
    "\n",
    "# Test: 1000\n",
    "mkdir -p workspace/step1/test\n",
    "\n",
    "python TextRecognitionDataGenerator/trdg/run.py \\\n",
    "    --output_dir workspace/step1/test \\\n",
    "    --count 1000 \\\n",
    "    --language \"cn\" "
   ]
  }
 ],
 "metadata": {
  "kernelspec": {
   "display_name": ".venv",
   "language": "python",
   "name": "python3"
  },
  "language_info": {
   "codemirror_mode": {
    "name": "ipython",
    "version": 3
   },
   "file_extension": ".py",
   "mimetype": "text/x-python",
   "name": "python",
   "nbconvert_exporter": "python",
   "pygments_lexer": "ipython3",
   "version": "3.9.24"
  }
 },
 "nbformat": 4,
 "nbformat_minor": 5
}
