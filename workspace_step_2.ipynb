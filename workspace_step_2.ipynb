{
 "cells": [
  {
   "cell_type": "markdown",
   "id": "0e738dd3",
   "metadata": {},
   "source": [
    "# Step 2: Dataset transformation with TRDG2DTRB"
   ]
  },
  {
   "cell_type": "code",
   "execution_count": null,
   "id": "d6f23a98",
   "metadata": {},
   "outputs": [
    {
     "name": "stdout",
     "output_type": "stream",
     "text": [
      "input path:  /Users/wing199901/Downloads/ocr/workspace/step1/training\n",
      "output path:  /Users/wing199901/Downloads/ocr/workspace/step2/training\n",
      "\n",
      "Output folder already exists.\n",
      "\n",
      "So, delete all data of output folder [/Users/wing199901/Downloads/ocr/workspace/step2/training]\n",
      "\n",
      "Total file count:  10000\n",
      "10000 / 10000 Processing !!\n",
      "Conversion complete!\n",
      "\n"
     ]
    }
   ],
   "source": [
    "%%bash\n",
    "\n",
    "# Training data conversion from TRDG format to DTRB format\n",
    "python TRDG2DTRB/convert.py \\\n",
    "    --input_path \"workspace/step1/training\" \\\n",
    "    --output_path \"workspace/step2/training\"\n",
    "\n",
    "\n",
    "# Validation data conversion from TRDG format to DTRB format\n",
    "python TRDG2DTRB/convert.py \\\n",
    "    --input_path \"workspace/step1/validation\" \\\n",
    "    --output_path \"workspace/step2/validation\"\n",
    "\n",
    "\n",
    "# Test data conversion from TRDG format to DTRB format\n",
    "python TRDG2DTRB/convert.py \\\n",
    "    --input_path \"workspace/step1/test\" \\\n",
    "    --output_path \"workspace/step2/test\""
   ]
  }
 ],
 "metadata": {
  "kernelspec": {
   "display_name": ".venv",
   "language": "python",
   "name": "python3"
  },
  "language_info": {
   "codemirror_mode": {
    "name": "ipython",
    "version": 3
   },
   "file_extension": ".py",
   "mimetype": "text/x-python",
   "name": "python",
   "nbconvert_exporter": "python",
   "pygments_lexer": "ipython3",
   "version": "3.9.24"
  }
 },
 "nbformat": 4,
 "nbformat_minor": 5
}
