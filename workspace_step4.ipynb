{
 "cells": [
  {
   "cell_type": "markdown",
   "id": "858e26bd",
   "metadata": {},
   "source": [
    "# Step 4: Test and Compare Models\n",
    "\n",
    "In this step, you'll test your trained model and compare it with EasyOCR's pre-trained model to evaluate performance.\n",
    "\n",
    "## What You'll Learn:\n",
    "- How to set up a custom OCR model for inference\n",
    "- How to compare custom vs pre-trained models\n",
    "- How to interpret OCR results and confidence scores"
   ]
  },
  {
   "cell_type": "markdown",
   "id": "ff145b2b",
   "metadata": {},
   "source": [
    "## 4.1 Setup: Copy Trained Model\n",
    "\n",
    "First, copy your trained model to the `user_network_dir` directory where EasyOCR will load it.\n",
    "\n",
    "**Important Files Needed:**\n",
    "- `user_network_dir/custom.pth` - Your trained model weights\n",
    "- `user_network_dir/custom.yaml` - Model configuration (architecture, character list)\n",
    "- `user_network_dir/custom.py` - Model architecture definition"
   ]
  },
  {
   "cell_type": "code",
   "execution_count": null,
   "id": "0ec700ad",
   "metadata": {},
   "outputs": [],
   "source": [
    "# Create the user network directory if it doesn't exist\n",
    "!mkdir -p ./user_network_dir\n",
    "\n",
    "# Copy your trained model to the user network directory\n",
    "# ⚠️ IMPORTANT: Change the date folder name to match your training run\n",
    "# The folder name format is: TPS-VGG-BiLSTM-CTC-Seed1111-YYYYMMDD\n",
    "!cp ./saved_models/TPS-VGG-BiLSTM-CTC-Seed1111-20251019/best_accuracy.pth ./user_network_dir/custom.pth"
   ]
  },
  {
   "cell_type": "markdown",
   "id": "4db1e5ba",
   "metadata": {},
   "source": [
    "## 4.2 Prepare Test Images\n",
    "\n",
    "Place your test images in the `demo_images` folder. These should be images similar to what your model will process in production (e.g., receipts, invoices, signs).\n",
    "\n",
    "```bash\n",
    "demo_images/\n",
    "  ├── demo_image_01.jpg\n",
    "  ├── demo_image_02.jpg\n",
    "  └── ...\n",
    "```"
   ]
  },
  {
   "cell_type": "markdown",
   "id": "5794bf80",
   "metadata": {},
   "source": [
    "## 4.3 Test with Pre-trained Model (Baseline)\n",
    "\n",
    "First, test with EasyOCR's pre-trained model to establish a baseline performance."
   ]
  },
  {
   "cell_type": "code",
   "execution_count": null,
   "id": "7f96a4d4",
   "metadata": {},
   "outputs": [],
   "source": [
    "from easyocr import Reader\n",
    "import os\n",
    "\n",
    "# Set GPU devices\n",
    "os.environ['CUDA_VISIBLE_DEVICES'] = '0,1'\n",
    "\n",
    "# Initialize EasyOCR with pre-trained traditional Chinese model\n",
    "print(\"Loading EasyOCR pre-trained model...\")\n",
    "reader_pretrained = Reader(['ch_tra'], gpu=True)\n",
    "\n",
    "# Get test images\n",
    "demo_images_dir = './demo_images'\n",
    "test_files = [f for f in os.listdir(demo_images_dir) if not f.startswith('.')]\n",
    "test_files.sort()\n",
    "\n",
    "print(f\"\\n{'='*70}\")\n",
    "print(\"TESTING WITH EASYOCR PRE-TRAINED MODEL (Baseline)\")\n",
    "print(f\"{'='*70}\\n\")\n",
    "\n",
    "# Test each image - simplified version\n",
    "for filename in test_files:\n",
    "    file_path = os.path.join(demo_images_dir, filename)\n",
    "    results = reader_pretrained.readtext(file_path)\n",
    "    \n",
    "    for bbox, text, confidence in results:\n",
    "        print(\"filename: '%s', confidence: %.4f, string: '%s'\" % (filename, confidence, text))"
   ]
  },
  {
   "cell_type": "markdown",
   "id": "d15880b4",
   "metadata": {},
   "source": [
    "## 4.4 Test with Your Custom Model\n",
    "\n",
    "Now test with your trained model. Make sure you have:\n",
    "- ✅ `user_network_dir/custom.pth` (model weights)\n",
    "- ✅ `user_network_dir/custom.yaml` (configuration)\n",
    "- ✅ `user_network_dir/custom.py` (architecture)"
   ]
  },
  {
   "cell_type": "code",
   "execution_count": null,
   "id": "157d3186",
   "metadata": {},
   "outputs": [],
   "source": [
    "from easyocr import Reader\n",
    "import os\n",
    "\n",
    "# Set GPU devices\n",
    "os.environ['CUDA_VISIBLE_DEVICES'] = '0,1'\n",
    "\n",
    "# Initialize EasyOCR with your custom model\n",
    "print(\"Loading your custom trained model...\")\n",
    "reader_custom = Reader(\n",
    "    ['ch_tra'], \n",
    "    gpu=True,\n",
    "    model_storage_directory='./user_network_dir',\n",
    "    user_network_directory='./user_network_dir',\n",
    "    recog_network='custom'\n",
    ")\n",
    "\n",
    "# Get test images\n",
    "demo_images_dir = './demo_images'\n",
    "test_files = [f for f in os.listdir(demo_images_dir) if not f.startswith('.')]\n",
    "test_files.sort()\n",
    "\n",
    "print(f\"\\n{'='*70}\")\n",
    "print(\"TESTING WITH YOUR CUSTOM MODEL\")\n",
    "print(f\"{'='*70}\\n\")\n",
    "\n",
    "# Test each image - simplified version\n",
    "for filename in test_files:\n",
    "    file_path = os.path.join(demo_images_dir, filename)\n",
    "    results = reader_custom.readtext(file_path)\n",
    "    \n",
    "    for bbox, text, confidence in results:\n",
    "        print(\"filename: '%s', confidence: %.4f, string: '%s'\" % (filename, confidence, text))"
   ]
  },
  {
   "cell_type": "markdown",
   "id": "990e6c78",
   "metadata": {},
   "source": [
    "## 4.5 Side-by-Side Comparison\n",
    "\n",
    "Compare both models on the same images to see which performs better."
   ]
  },
  {
   "cell_type": "code",
   "execution_count": 8,
   "id": "6ee1a92c",
   "metadata": {},
   "outputs": [
    {
     "name": "stdout",
     "output_type": "stream",
     "text": [
      "Loading both models...\n",
      "\n",
      "================================================================================\n",
      "SIDE-BY-SIDE COMPARISON: Pre-trained vs Custom Model\n",
      "================================================================================\n",
      "\n",
      "📷 Testing: demo_image_01.jpg\n",
      "--------------------------------------------------------------------------------\n",
      "🔵 EasyOCR Pre-trained Model:\n",
      "   confidence: 0.0146, string: '九龍青衣紐山路2號美景花園平壼72號舖'\n",
      "\n",
      "🟢 Your Custom Model:\n",
      "   confidence: 0.1838, string: '果'\n",
      "\n",
      "================================================================================\n",
      "\n"
     ]
    },
    {
     "name": "stderr",
     "output_type": "stream",
     "text": [
      "/Users/wing199901/Downloads/smart-spend-ocr-workspace/.venv/lib/python3.12/site-packages/torch/utils/data/dataloader.py:692: UserWarning: 'pin_memory' argument is set as true but not supported on MPS now, device pinned memory won't be used.\n",
      "  warnings.warn(warn_msg)\n",
      "/Users/wing199901/Downloads/smart-spend-ocr-workspace/.venv/lib/python3.12/site-packages/torch/utils/data/dataloader.py:692: UserWarning: 'pin_memory' argument is set as true but not supported on MPS now, device pinned memory won't be used.\n",
      "  warnings.warn(warn_msg)\n"
     ]
    }
   ],
   "source": [
    "from easyocr import Reader\n",
    "import os\n",
    "\n",
    "# Set GPU devices\n",
    "os.environ['CUDA_VISIBLE_DEVICES'] = '0,1'\n",
    "\n",
    "# Initialize both models\n",
    "print(\"Loading both models...\")\n",
    "reader_pretrained = Reader(['ch_tra'], gpu=True)\n",
    "reader_custom = Reader(['ch_tra'], gpu=True,\n",
    "                      model_storage_directory='./user_network_dir',\n",
    "                      user_network_directory='./user_network_dir',\n",
    "                      recog_network='custom')\n",
    "\n",
    "# Get test images\n",
    "demo_images_dir = './demo_images'\n",
    "test_files = [f for f in os.listdir(demo_images_dir) if not f.startswith('.')]\n",
    "test_files.sort()\n",
    "\n",
    "print(f\"\\n{'='*80}\")\n",
    "print(\"SIDE-BY-SIDE COMPARISON: Pre-trained vs Custom Model\")\n",
    "print(f\"{'='*80}\\n\")\n",
    "\n",
    "# Compare results for each image\n",
    "for filename in test_files:\n",
    "    file_path = os.path.join(demo_images_dir, filename)\n",
    "    print(f\"📷 Testing: {filename}\")\n",
    "    print(f\"{'-'*80}\")\n",
    "    \n",
    "    # Test with pre-trained model\n",
    "    results_pretrained = reader_pretrained.readtext(file_path)\n",
    "    print(\"🔵 EasyOCR Pre-trained Model:\")\n",
    "    if results_pretrained:\n",
    "        for bbox, text, confidence in results_pretrained:\n",
    "            print(\"   confidence: %.4f, string: '%s'\" % (confidence, text))\n",
    "    else:\n",
    "        print(\"   No text detected\")\n",
    "    \n",
    "    print()\n",
    "    \n",
    "    # Test with custom model\n",
    "    results_custom = reader_custom.readtext(file_path)\n",
    "    print(\"🟢 Your Custom Model:\")\n",
    "    if results_custom:\n",
    "        for bbox, text, confidence in results_custom:\n",
    "            print(\"   confidence: %.4f, string: '%s'\" % (confidence, text))\n",
    "    else:\n",
    "        print(\"   No text detected\")\n",
    "    \n",
    "    print(f\"\\n{'='*80}\\n\")"
   ]
  }
 ],
 "metadata": {
  "kernelspec": {
   "display_name": ".venv",
   "language": "python",
   "name": "python3"
  },
  "language_info": {
   "codemirror_mode": {
    "name": "ipython",
    "version": 3
   },
   "file_extension": ".py",
   "mimetype": "text/x-python",
   "name": "python",
   "nbconvert_exporter": "python",
   "pygments_lexer": "ipython3",
   "version": "3.12.12"
  }
 },
 "nbformat": 4,
 "nbformat_minor": 5
}
